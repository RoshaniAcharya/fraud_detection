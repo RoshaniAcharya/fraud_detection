{
 "cells": [
  {
   "cell_type": "code",
   "execution_count": 31,
   "id": "102f4fa7",
   "metadata": {},
   "outputs": [],
   "source": [
    "import os\n",
    "\n",
    "import numpy as np\n",
    "import pandas as pd\n",
    "import seaborn as sns\n",
    "import plotly.express as px\n",
    "import matplotlib.pyplot as plt\n",
    "from sklearn.preprocessing import LabelEncoder,OneHotEncoder\n",
    "from sklearn.preprocessing import StandardScaler, OneHotEncoder\n",
    "from sklearn.compose import ColumnTransformer\n",
    "from sklearn.pipeline import Pipeline\n",
    "from sklearn.tree import DecisionTreeClassifier\n",
    "from sklearn.metrics import classification_report, confusion_matrix, roc_auc_score, precision_score, f1_score\n",
    "from sklearn.metrics import ConfusionMatrixDisplay\n",
    "import joblib"
   ]
  },
  {
   "cell_type": "code",
   "execution_count": 4,
   "id": "86a79063",
   "metadata": {},
   "outputs": [
    {
     "name": "stdout",
     "output_type": "stream",
     "text": [
      "(1296675, 16)\n",
      "merchant              object\n",
      "category              object\n",
      "amt                  float64\n",
      "gender                object\n",
      "city                  object\n",
      "state                 object\n",
      "job                   object\n",
      "trans_num             object\n",
      "is_fraud               int64\n",
      "trans_month_sin      float64\n",
      "trans_month_cos      float64\n",
      "trans_hour_sin       float64\n",
      "trans_hour_cos       float64\n",
      "age                  float64\n",
      "distance             float64\n",
      "city_pop_category     object\n",
      "dtype: object\n"
     ]
    }
   ],
   "source": [
    "df = pd.read_csv('/home/fm-pc-lt-173/fraud_detection/pythonProject/data/final_features.csv')\n",
    "print(df.shape)\n",
    "# df.head(5)\n",
    "print(df.dtypes)"
   ]
  },
  {
   "cell_type": "code",
   "execution_count": 6,
   "id": "b400051b",
   "metadata": {},
   "outputs": [],
   "source": [
    "# df['trans_date_trans_time'] = pd.to_datetime(df['trans_date_trans_time'])\n",
    "# df['dob'] = pd.to_datetime(df['dob'])"
   ]
  },
  {
   "cell_type": "markdown",
   "id": "577e221d",
   "metadata": {},
   "source": [
    "**<h2>Training Decision Tree using the features to generate feature importance.</h2>**"
   ]
  },
  {
   "cell_type": "code",
   "execution_count": 7,
   "id": "5ca3466e",
   "metadata": {},
   "outputs": [],
   "source": [
    "def preprocess_data():\n",
    "#     numerical_features = ['amt', 'lat', 'long', 'city_pop', 'unix_time', 'merch_lat', 'merch_long','cc_num']\n",
    "#     categorical_features = ['merchant', 'category', 'first', 'last', 'gender', 'street', 'city', 'state', 'zip', 'job', 'trans_num']\n",
    "    numerical_features = ['amt','trans_month_sin', 'trans_month_cos', 'trans_hour_sin', 'trans_hour_cos','age','distance']\n",
    "    categorical_features = ['merchant', 'category','gender','city','state', 'job','trans_num']\n",
    "    numerical_transformer = StandardScaler()\n",
    "    categorical_transformer = OneHotEncoder(handle_unknown='ignore')\n",
    "    preprocessor = ColumnTransformer(\n",
    "        transformers=[\n",
    "        ('num', numerical_transformer, numerical_features),\n",
    "        ('cat', categorical_transformer, categorical_features)])\n",
    "    return preprocessor"
   ]
  },
  {
   "cell_type": "markdown",
   "id": "9594b553",
   "metadata": {},
   "source": [
    "<h2>Decision Tree</h2>"
   ]
  },
  {
   "cell_type": "code",
   "execution_count": 18,
   "id": "2b98e633",
   "metadata": {},
   "outputs": [
    {
     "name": "stdout",
     "output_type": "stream",
     "text": [
      "here\n",
      "here 2\n",
      "here 3\n",
      "              precision    recall  f1-score   support\n",
      "\n",
      "           0       1.00      1.00      1.00    257815\n",
      "           1       0.88      0.70      0.78      1520\n",
      "\n",
      "    accuracy                           1.00    259335\n",
      "   macro avg       0.94      0.85      0.89    259335\n",
      "weighted avg       1.00      1.00      1.00    259335\n",
      "\n"
     ]
    }
   ],
   "source": [
    "# Define features and target\n",
    "X = df.drop('is_fraud', axis=1)\n",
    "y = df['is_fraud']\n",
    "\n",
    "# Split the data\n",
    "X_train, X_test, y_train, y_test = train_test_split(X, y, test_size=0.2, random_state=42)\n",
    "\n",
    "preprocessor = preprocess_data()\n",
    "\n",
    "print(\"here\")\n",
    "# Create the pipeline\n",
    "clf = Pipeline(steps=[\n",
    "    ('preprocessor', preprocessor),\n",
    "    ('classifier', DecisionTreeClassifier(random_state=10))\n",
    "])\n",
    "\n",
    "print(\"here 2\")\n",
    "# Train the model\n",
    "clf.fit(X_train, y_train)\n",
    "\n",
    "# Save pipeline (including preprocessor and classifier) to a file\n",
    "# dump(clf, 'pipeline_with_model.joblib')\n",
    "\n",
    "print(\"here 3\")\n",
    "\n",
    "# Evaluate the model\n",
    "y_pred = clf.predict(X_test)\n",
    "print(classification_report(y_test, y_pred))"
   ]
  },
  {
   "cell_type": "code",
   "execution_count": 19,
   "id": "f74732c3",
   "metadata": {},
   "outputs": [
    {
     "data": {
      "text/plain": [
       "<sklearn.metrics._plot.confusion_matrix.ConfusionMatrixDisplay at 0x7f1a9cad10a0>"
      ]
     },
     "execution_count": 19,
     "metadata": {},
     "output_type": "execute_result"
    },
    {
     "data": {
      "image/png": "[encoded data removed]",
      "text/plain": [
       "<Figure size 640x480 with 2 Axes>"
      ]
     },
     "metadata": {},
     "output_type": "display_data"
    }
   ],
   "source": [
    "ConfusionMatrixDisplay.from_estimator(clf, X_test,y_test,cmap='Purples')"
   ]
  },
  {
   "cell_type": "code",
   "execution_count": 20,
   "id": "578e8891",
   "metadata": {},
   "outputs": [
    {
     "data": {
      "text/plain": [
       "['/home/fm-pc-lt-173/fraud_detection/pythonProject/data/decisiontree_default_setup.joblib']"
      ]
     },
     "execution_count": 20,
     "metadata": {},
     "output_type": "execute_result"
    }
   ],
   "source": [
    "joblib.dump(clf,'/home/fm-pc-lt-173/fraud_detection/pythonProject/data/decisiontree_default_setup.joblib')"
   ]
  },
  {
   "cell_type": "code",
   "execution_count": 21,
   "id": "56d39080",
   "metadata": {},
   "outputs": [],
   "source": [
    "# Get the names of the numerical features\n",
    "numerical_features = ['amt', 'lat', 'long', 'city_pop', 'unix_time', 'merch_lat', 'merch_long']\n",
    "categorical_features = ['merchant', 'category','gender','city','state', 'job','trans_num']\n",
    "\n",
    "# Get the names of the categorical features after one-hot encoding\n",
    "categorical_transformer = clf.named_steps['preprocessor'].named_transformers_['cat']\n",
    "categorical_feature_names = categorical_transformer.get_feature_names_out(categorical_features)\n",
    "\n",
    "# Combine the names\n",
    "feature_names = list(numerical_features) + list(categorical_feature_names)"
   ]
  },
  {
   "cell_type": "code",
   "execution_count": 22,
   "id": "b46caa77",
   "metadata": {},
   "outputs": [
    {
     "name": "stdout",
     "output_type": "stream",
     "text": [
      "1039495\n"
     ]
    }
   ],
   "source": [
    "# Calculate feature importances\n",
    "# feature_importances = clf.feature_importances_\n",
    "feature_importances = clf.named_steps['classifier'].feature_importances_\n",
    "print(len(feature_importances))\n",
    "\n",
    "# Create a DataFrame for feature importances\n",
    "feature_importances_df = pd.DataFrame({\n",
    "    'feature': feature_names,\n",
    "    'importance': feature_importances\n",
    "}).sort_values(by='importance', ascending=False)\n",
    "\n",
    "# # Visualize feature importances\n",
    "# plt.figure(figsize=(10, 8))\n",
    "# plt.barh(feature_importances_df['feature'], feature_importances_df['importance'])\n",
    "# plt.xlabel('Importance')\n",
    "# plt.ylabel('Feature')\n",
    "# plt.title('Feature Importances')\n",
    "# plt.gca().invert_yaxis()\n",
    "# plt.show()\n",
    "\n",
    "# # Print the feature importances\n",
    "# print(feature_importances_df)"
   ]
  },
  {
   "cell_type": "code",
   "execution_count": 23,
   "id": "9f858a72",
   "metadata": {},
   "outputs": [],
   "source": [
    "feature_importances_df.to_csv(\"/home/fm-pc-lt-173/fraud_detection/pythonProject/data/dt-defeault_setup_ft_imp.csv\")"
   ]
  },
  {
   "cell_type": "code",
   "execution_count": null,
   "id": "8a4595e8",
   "metadata": {},
   "outputs": [],
   "source": [
    "top_100_feature_importances_df = feature_importances_df.sort_values(['importance'], ascending=False).tail(100)\n",
    "pd.set_option('display.max_rows', None)\n",
    "top_100_feature_importances_df"
   ]
  },
  {
   "cell_type": "markdown",
   "id": "6ab0904e",
   "metadata": {},
   "source": [
    "**<h2>Insights</h2>**\n",
    "<li><b>Including all the feature columns</b></li>\n",
    "<li><b>Numerical feature columns and categorical columns were scaled using standardscaler and encoded using onehotencoder respectively</b></li>\n",
    "<li><b>Random Forest Classifier is used to generate the feature importance</b></li>\n",
    "<li><b>Total 4941 features is created to fit into the model</b></li>\n",
    "<li><b>Out of all the features; amt, unix_time, merch_long, merch_lat, category, city_pop,lat,long,gender,merchant,job are some of the top features found</b></li>\n",
    "<li><b>Similarly, zip, street, first,last are some of the low ranking features found</b></li>"
   ]
  }
 ],
 "metadata": {
  "kernelspec": {
   "display_name": "Python 3 (ipykernel)",
   "language": "python",
   "name": "python3"
  },
  "language_info": {
   "codemirror_mode": {
    "name": "ipython",
    "version": 3
   },
   "file_extension": ".py",
   "mimetype": "text/x-python",
   "name": "python",
   "nbconvert_exporter": "python",
   "pygments_lexer": "ipython3",
   "version": "3.8.15"
  }
 },
 "nbformat": 4,
 "nbformat_minor": 5
}
